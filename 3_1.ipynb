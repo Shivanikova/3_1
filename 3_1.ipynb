{
 "cells": [
  {
   "cell_type": "code",
   "execution_count": 31,
   "id": "9ad1dd3b",
   "metadata": {},
   "outputs": [
    {
     "data": {
      "text/plain": [
       "['первая', 'третья', 'пятая']"
      ]
     },
     "execution_count": 31,
     "metadata": {},
     "output_type": "execute_result"
    }
   ],
   "source": [
    "#a) Написать программу, которая удаляет из списка все элементы, стоящие на четных позициях.\n",
    "list1 = ['нулевая', 'первая','вторая', 'третья', 'четвертая', 'пятая', 'шестая']\n",
    "list2 = [el for i, el in enumerate(list1) if i%2]\n",
    "list2\n"
   ]
  },
  {
   "cell_type": "code",
   "execution_count": 38,
   "id": "16cea66c",
   "metadata": {},
   "outputs": [
    {
     "name": "stdout",
     "output_type": "stream",
     "text": [
      "Afghanistan\n",
      "Albania\n",
      "Algeria\n",
      "Antigua & Deps\n",
      "Argentina\n",
      "Armenia\n",
      "Australia\n",
      "Austria\n",
      "Azerbaijan\n"
     ]
    }
   ],
   "source": [
    "#b) Написать программу, которая считывает список слов и находит слова, содержащие более трех гласных букв.\n",
    "\n",
    "wordsList = ['Afghanistan', 'Albania','Algeria','Andorra','Angola','Antigua & Deps','Argentina','Armenia','Australia','Austria','Azerbaijan']\n",
    "dictionary = {}\n",
    "vowels = 'aeoui'\n",
    "\n",
    "for word in wordsList:\n",
    "    count = 0 # I moved it\n",
    "    for letter in word:\n",
    "        if letter.lower() in vowels: # to consider both upper/lower case\n",
    "            count = count + 1\n",
    "            dictionary[word] = (count)\n",
    "\n",
    "for k, v in dictionary.items():\n",
    "    if v > 3:\n",
    "        print(k)"
   ]
  },
  {
   "cell_type": "code",
   "execution_count": 1,
   "id": "89306dae",
   "metadata": {},
   "outputs": [
    {
     "data": {
      "text/plain": [
       "8"
      ]
     },
     "execution_count": 1,
     "metadata": {},
     "output_type": "execute_result"
    }
   ],
   "source": [
    "#c) Написать программу, которая находит второй по величине элемент в списке.\n",
    "numbers = [5,7,9,1,8]\n",
    "max2 = sorted(numbers)[-2]\n",
    "max2\n"
   ]
  },
  {
   "cell_type": "code",
   "execution_count": 29,
   "id": "7286bef7",
   "metadata": {},
   "outputs": [
    {
     "data": {
      "text/plain": [
       "['Иванов', 'Петров', 'Сидоров']"
      ]
     },
     "execution_count": 29,
     "metadata": {},
     "output_type": "execute_result"
    }
   ],
   "source": [
    "#d) Написать программу, которая удаляет из списка все дубликаты.\n",
    "ints_list = ['Иванов', 'Петров', 'Сидоров','Иванов', 'Петров', 'Сидоров']\n",
    "\n",
    "list_unique = []\n",
    "for x in ints_list: \n",
    "    if x not in list_unique: \n",
    "        list_unique.append(x)\n",
    "ints_list = list_unique\n",
    "\n",
    "list_unique\n",
    "\n"
   ]
  },
  {
   "cell_type": "code",
   "execution_count": 81,
   "id": "54c04fe2",
   "metadata": {},
   "outputs": [
    {
     "data": {
      "text/plain": [
       "{'Ivan': ['m', 35, 150000],\n",
       " 'Maria': ['f', 25, 50000],\n",
       " 'Anna': ['f', 28, 80000],\n",
       " 'Vlad': ['m', 30, 90000]}"
      ]
     },
     "execution_count": 81,
     "metadata": {},
     "output_type": "execute_result"
    }
   ],
   "source": [
    "#e) Написать программу, которая считывает данные из CSV-файла и создает словарь, где ключами являются значения в столбце\n",
    "#«Name», а значениями — соответствующие им словари с информацией о поле, возрасте и зарплате.\n",
    "import pandas as pd\n",
    "dic = pd.read_csv(\"dictionary.csv\", index_col= 'Name' )\n",
    "dict_list=dict([i,[a,b,c]] for i, a,b,c in zip(df.Name, df.pol,df.age,df.salary))\n",
    "dict_list"
   ]
  },
  {
   "cell_type": "code",
   "execution_count": 54,
   "id": "4047060d",
   "metadata": {},
   "outputs": [],
   "source": [
    "#f) Написать программу, которая запрашивает у пользователя строку и выводит на экран все ее подстроки длиной не менее трех\n",
    "#символов."
   ]
  },
  {
   "cell_type": "code",
   "execution_count": 89,
   "id": "ac60badc",
   "metadata": {},
   "outputs": [
    {
     "name": "stdout",
     "output_type": "stream",
     "text": [
      "Введите информацию:  фф ффф аааа \n",
      "['ффф', 'аааа']\n"
     ]
    }
   ],
   "source": [
    "input_text = input('Введите информацию:  ')\n",
    "print([word for word in input_text.split(' ') if len(word) >=3])"
   ]
  },
  {
   "cell_type": "code",
   "execution_count": null,
   "id": "45cdadea",
   "metadata": {},
   "outputs": [],
   "source": []
  }
 ],
 "metadata": {
  "kernelspec": {
   "display_name": "Python 3 (ipykernel)",
   "language": "python",
   "name": "python3"
  },
  "language_info": {
   "codemirror_mode": {
    "name": "ipython",
    "version": 3
   },
   "file_extension": ".py",
   "mimetype": "text/x-python",
   "name": "python",
   "nbconvert_exporter": "python",
   "pygments_lexer": "ipython3",
   "version": "3.9.13"
  }
 },
 "nbformat": 4,
 "nbformat_minor": 5
}
